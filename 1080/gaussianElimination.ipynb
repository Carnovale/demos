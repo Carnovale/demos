{
 "cells": [
  {
   "cell_type": "markdown",
   "metadata": {},
   "source": [
    "### Libraries"
   ]
  },
  {
   "cell_type": "code",
   "execution_count": null,
   "metadata": {
    "collapsed": true
   },
   "outputs": [],
   "source": [
    "import numpy as np\n",
    "tiny = 100*np.finfo(float).eps"
   ]
  },
  {
   "cell_type": "markdown",
   "metadata": {},
   "source": [
    "### Initial Conditions"
   ]
  },
  {
   "cell_type": "code",
   "execution_count": null,
   "metadata": {
    "collapsed": false
   },
   "outputs": [],
   "source": [
    "A = np.array([[5., 1., -1.], [10., 1., -5.], [2., 8., 6.]])\n",
    "b = np.array([[5.,-6.,6.6]])\n",
    "N = A.shape[0]                          # Calculate N\n",
    "x = np.zeros(N)                         # Initialize solutions vector\n",
    "Ab = np.concatenate((A,b.T),axis=1)     # Create augmented matrix"
   ]
  },
  {
   "cell_type": "markdown",
   "metadata": {},
   "source": [
    "### Gaussian Elimination WITHOUT Partial Pivoting"
   ]
  },
  {
   "cell_type": "code",
   "execution_count": null,
   "metadata": {
    "collapsed": false
   },
   "outputs": [],
   "source": [
    "for i in range(N-1):\n",
    "    for k in range(i+1,N):\n",
    "        m = Ab[k,i]/Ab[i,i]\n",
    "        for j in range(i,N+1):\n",
    "            Ab[k,j] = Ab[k,j] - m*Ab[i,j]"
   ]
  },
  {
   "cell_type": "markdown",
   "metadata": {},
   "source": [
    "Verify"
   ]
  },
  {
   "cell_type": "code",
   "execution_count": null,
   "metadata": {
    "collapsed": false
   },
   "outputs": [],
   "source": [
    "Ab"
   ]
  },
  {
   "cell_type": "markdown",
   "metadata": {},
   "source": [
    "### Back Substition"
   ]
  },
  {
   "cell_type": "code",
   "execution_count": null,
   "metadata": {
    "collapsed": false
   },
   "outputs": [],
   "source": [
    "for i in range(N)[::-1]:\n",
    "    s = 0\n",
    "    for j in range(i+1,N):\n",
    "            s += Ab[i,j]*x[j]\n",
    "    x[i] = (1/Ab[i,i])*(Ab[i,N] - s)\n",
    "x"
   ]
  },
  {
   "cell_type": "markdown",
   "metadata": {},
   "source": [
    "Verify"
   ]
  },
  {
   "cell_type": "code",
   "execution_count": null,
   "metadata": {
    "collapsed": false
   },
   "outputs": [],
   "source": [
    "residual = np.dot(A,x) - b\n",
    "for i in range(N):\n",
    "    if residual[0,i]<tiny:\n",
    "        residual[0,i]=0\n",
    "residual"
   ]
  },
  {
   "cell_type": "markdown",
   "metadata": {},
   "source": [
    "### Gaussian Elimination WITH Scaled Partial Pivoting"
   ]
  },
  {
   "cell_type": "markdown",
   "metadata": {},
   "source": [
    "#### Dangerous Initial Conditions"
   ]
  },
  {
   "cell_type": "code",
   "execution_count": null,
   "metadata": {
    "collapsed": false
   },
   "outputs": [],
   "source": [
    "A = np.array([[5., 1., -1.], [10., 2., -5.], [2., 8., 6.]])\n",
    "b = np.array([[5.,-6.,6.6]])\n",
    "N = A.shape[0]                          # Calculate N\n",
    "x = np.zeros(N)                         # Initialize solutions vector\n",
    "Ab = np.concatenate((A,b.T),axis=1)     # Create augmented matrix"
   ]
  },
  {
   "cell_type": "code",
   "execution_count": null,
   "metadata": {
    "collapsed": false
   },
   "outputs": [],
   "source": [
    "for i in range(N-1):\n",
    "    for k in range(i+1,N):\n",
    "        m = Ab[k,i]/Ab[i,i]\n",
    "        for j in range(i,N+1):\n",
    "            Ab[k,j] = Ab[k,j] - m*Ab[i,j]"
   ]
  },
  {
   "cell_type": "markdown",
   "metadata": {},
   "source": [
    "#### The Pivot Function"
   ]
  },
  {
   "cell_type": "code",
   "execution_count": null,
   "metadata": {
    "collapsed": false
   },
   "outputs": [],
   "source": [
    "A = np.array([[5., 1., -1.], [10., 2., -1.], [2., 8., 6.]])\n",
    "b = np.array([[5.,-6.,6.6]])\n",
    "N = A.shape[0]                          # Calculate N\n",
    "x = np.zeros(N)                         # Initialize solutions vector\n",
    "Ab = np.concatenate((A,b.T),axis=1)     # Create augmented matrix"
   ]
  },
  {
   "cell_type": "code",
   "execution_count": null,
   "metadata": {
    "collapsed": false
   },
   "outputs": [],
   "source": [
    "def pivoting(i,Ab,N):\n",
    "    d = np.zeros(N)\n",
    "    for j in range(i,N):\n",
    "        d[j] = np.abs(Ab[j,i])\n",
    "        for k in range(i+1,N+1):\n",
    "            if d[j] < np.abs(Ab[j,k]):\n",
    "                d[j] = np.abs(Ab[j,k])\n",
    "    pivotrow = i\n",
    "    pivot = np.abs(Ab[i,i])/d[i]\n",
    "    for j in range(i+1,N):\n",
    "        if pivot < abs(Ab[j,i])/d[j]:\n",
    "            pivot = abs(Ab[j,i])/d[j]\n",
    "            pivotrow = j\n",
    "    return pivotrow     "
   ]
  },
  {
   "cell_type": "code",
   "execution_count": null,
   "metadata": {
    "collapsed": false
   },
   "outputs": [],
   "source": [
    "for i in range(N-1):\n",
    "    l = pivoting(i,Ab,N)\n",
    "    if l != i:\n",
    "        temp = np.zeros(N+1)\n",
    "        for n in range(N+1):\n",
    "            temp[n] = Ab[i,n]\n",
    "            Ab[i,n] = Ab[l,n]\n",
    "            Ab[l,n] = temp[n]\n",
    "            \n",
    "    for k in range(i+1,N):\n",
    "        m = Ab[k,i]/Ab[i,i]\n",
    "        for j in range(i,N+1):\n",
    "            Ab[k,j] = Ab[k,j] - m*Ab[i,j]\n",
    "if np.abs(Ab[N-1,N-1]) < tiny:\n",
    "    print 'Hosed'"
   ]
  },
  {
   "cell_type": "code",
   "execution_count": null,
   "metadata": {
    "collapsed": false
   },
   "outputs": [],
   "source": [
    "Ab"
   ]
  },
  {
   "cell_type": "code",
   "execution_count": null,
   "metadata": {
    "collapsed": false
   },
   "outputs": [],
   "source": [
    "for i in range(N)[::-1]:\n",
    "    s = 0\n",
    "    for j in range(i+1,N):\n",
    "            s += Ab[i,j]*x[j]\n",
    "    x[i] = (1/Ab[i,i])*(Ab[i,N] - s)\n",
    "x"
   ]
  },
  {
   "cell_type": "code",
   "execution_count": null,
   "metadata": {
    "collapsed": false
   },
   "outputs": [],
   "source": [
    "residual = np.dot(A,x) - b\n",
    "for i in range(N):\n",
    "    if abs(residual[0,i])<tiny:\n",
    "        residual[0,i]=0\n",
    "residual"
   ]
  },
  {
   "cell_type": "markdown",
   "metadata": {},
   "source": [
    "### Solver"
   ]
  },
  {
   "cell_type": "code",
   "execution_count": null,
   "metadata": {
    "collapsed": false
   },
   "outputs": [],
   "source": [
    "def solver(A,b):\n",
    "    # Initialize\n",
    "    N = A.shape[0]\n",
    "    x = np.zeros(N)\n",
    "    Ab = np.concatenate((A,b.T),axis=1)\n",
    "    \n",
    "    # Make that pivoting function\n",
    "    def pivoting(i,Ab,N):\n",
    "        d = np.zeros(N)\n",
    "        for j in range(i,N):\n",
    "            d[j] = np.abs(Ab[j,i])\n",
    "            for k in range(i+1,N+1):\n",
    "                if d[j] < np.abs(Ab[j,k]):\n",
    "                    d[j] = np.abs(Ab[j,k])\n",
    "        pivotrow = i\n",
    "        pivot = np.abs(Ab[i,i])/d[i]\n",
    "        for j in range(i+1,N):\n",
    "            if pivot < abs(Ab[j,i])/d[j]:\n",
    "                pivot = abs(Ab[j,i])/d[j]\n",
    "                pivotrow = j\n",
    "        return pivotrow\n",
    "    \n",
    "    # Now do Gaussian Elim\n",
    "    for i in range(N-1):\n",
    "        l = pivoting(i,Ab,N)\n",
    "        if l != i:\n",
    "            temp = np.zeros(N+1)\n",
    "            for n in range(N+1):\n",
    "                temp[n] = Ab[i,n]\n",
    "                Ab[i,n] = Ab[l,n]\n",
    "                Ab[l,n] = temp[n]\n",
    "\n",
    "        for k in range(i+1,N):\n",
    "            m = Ab[k,i]/Ab[i,i]\n",
    "            for j in range(i,N+1):\n",
    "                Ab[k,j] = Ab[k,j] - m*Ab[i,j]\n",
    "    \n",
    "    # Check to make sure you can solve and solve\n",
    "    if np.abs(Ab[N-1,N-1]) < tiny:\n",
    "        print 'Hosed'\n",
    "    else:\n",
    "        for i in range(N)[::-1]:\n",
    "            s = 0\n",
    "            for j in range(i+1,N):\n",
    "                s += Ab[i,j]*x[j]\n",
    "            x[i] = (1/Ab[i,i])*(Ab[i,N] - s)\n",
    "        return x"
   ]
  },
  {
   "cell_type": "code",
   "execution_count": null,
   "metadata": {
    "collapsed": false
   },
   "outputs": [],
   "source": [
    "A = np.array([[1., -2., 8.], [4., 5., 6.], [70., 8., 95.]])\n",
    "b = np.array([[10.,11.,12.]])\n",
    "solver(A,b)"
   ]
  },
  {
   "cell_type": "code",
   "execution_count": null,
   "metadata": {
    "collapsed": false
   },
   "outputs": [],
   "source": [
    "residual = np.dot(A,solver(A,b)) - b\n",
    "for i in range(N):\n",
    "    if abs(residual[0,i])<tiny:\n",
    "        residual[0,i]=0\n",
    "residual"
   ]
  },
  {
   "cell_type": "markdown",
   "metadata": {},
   "source": [
    "### Degenerate System"
   ]
  },
  {
   "cell_type": "code",
   "execution_count": null,
   "metadata": {
    "collapsed": false
   },
   "outputs": [],
   "source": [
    "A = np.array([[1., -2., 8.], [2., -4., 16.], [70., 8., 95.]])\n",
    "b = np.array([[10.,11.,12.]])\n",
    "solver(A,b)"
   ]
  }
 ],
 "metadata": {
  "kernelspec": {
   "display_name": "Python 2",
   "language": "python",
   "name": "python2"
  },
  "language_info": {
   "codemirror_mode": {
    "name": "ipython",
    "version": 2
   },
   "file_extension": ".py",
   "mimetype": "text/x-python",
   "name": "python",
   "nbconvert_exporter": "python",
   "pygments_lexer": "ipython2",
   "version": "2.7.9"
  }
 },
 "nbformat": 4,
 "nbformat_minor": 0
}
