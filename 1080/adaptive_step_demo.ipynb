{
 "cells": [
  {
   "cell_type": "code",
   "execution_count": 1,
   "metadata": {
    "collapsed": true
   },
   "outputs": [],
   "source": [
    "%matplotlib inline\n",
    "import matplotlib.pyplot as plt\n",
    "import numpy as np"
   ]
  },
  {
   "cell_type": "code",
   "execution_count": 2,
   "metadata": {
    "collapsed": true
   },
   "outputs": [],
   "source": [
    "N = 10\n",
    "t0 = 2.\n",
    "tf = 5.\n",
    "def x(t):\n",
    "    return t+1-np.exp(t-1)\n",
    "def xp(t,x):\n",
    "    return x-t\n",
    "def xpx(t,x):\n",
    "    return 1\n",
    "x0 = x(t0)"
   ]
  },
  {
   "cell_type": "markdown",
   "metadata": {},
   "source": [
    "** Forward Euler **"
   ]
  },
  {
   "cell_type": "code",
   "execution_count": 3,
   "metadata": {
    "collapsed": true
   },
   "outputs": [],
   "source": [
    "def forward_euler(t0,tf,x0,N,xp):\n",
    "    ts = [t0]\n",
    "    xs = [x0]\n",
    "    h = (tf - t0)/float(N)\n",
    "    for i in range(N):\n",
    "        x0 += h*xp(t0,x0)\n",
    "        t0 += h\n",
    "        ts = np.append(ts,t0)\n",
    "        xs = np.append(xs,x0)\n",
    "    return ts, xs"
   ]
  },
  {
   "cell_type": "code",
   "execution_count": 4,
   "metadata": {
    "collapsed": false
   },
   "outputs": [
    {
     "data": {
      "text/plain": [
       "[<matplotlib.lines.Line2D at 0x1035cd890>,\n",
       " <matplotlib.lines.Line2D at 0x103691110>]"
      ]
     },
     "execution_count": 4,
     "metadata": {},
     "output_type": "execute_result"
    },
    {
     "data": {
      "image/png": "[encoded data removed]",
      "text/plain": [
       "<matplotlib.figure.Figure at 0x1035dcad0>"
      ]
     },
     "metadata": {},
     "output_type": "display_data"
    }
   ],
   "source": [
    "ts, exs = forward_euler(t0,tf,x0,N,xp)\n",
    "plt.plot(ts,exs,'o',ts,x(ts))"
   ]
  },
  {
   "cell_type": "markdown",
   "metadata": {},
   "source": [
    "** Adaptive Step **"
   ]
  },
  {
   "cell_type": "code",
   "execution_count": 5,
   "metadata": {
    "collapsed": false
   },
   "outputs": [],
   "source": [
    "tol = .1\n",
    "def adaptive_euler(t0,tf,x0,tol,xp):\n",
    "    p = 1.\n",
    "    ts = [t0]\n",
    "    xs = [x0]\n",
    "    h = tol\n",
    "    while t0<tf:\n",
    "        LTE = 1/2.*h*(xp(t0+h,x0+h*xp(t0,x0))-xp(t0,x0))\n",
    "        while LTE > 1.1*tol: \n",
    "            h = h*(np.abs(tol/LTE))**(1/(1+p))\n",
    "            LTE = 1/2.*h*(xp(t0+h,x0+h*xp(t0,x0))-xp(t0,x0))\n",
    "        x0 += h*xp(t0,x0)\n",
    "        t0 += h\n",
    "        ts = np.append(ts,t0)\n",
    "        xs = np.append(xs,x0)\n",
    "        h = h*(np.abs(tol/LTE))**(1/(1+p))\n",
    "    return ts, xs"
   ]
  },
  {
   "cell_type": "code",
   "execution_count": 6,
   "metadata": {
    "collapsed": false
   },
   "outputs": [
    {
     "data": {
      "text/plain": [
       "[<matplotlib.lines.Line2D at 0x1037d5d10>,\n",
       " <matplotlib.lines.Line2D at 0x1037d5f50>]"
      ]
     },
     "execution_count": 6,
     "metadata": {},
     "output_type": "execute_result"
    },
    {
     "data": {
      "image/png": "[encoded data removed]",
      "text/plain": [
       "<matplotlib.figure.Figure at 0x103618050>"
      ]
     },
     "metadata": {},
     "output_type": "display_data"
    }
   ],
   "source": [
    "ts, adexs = adaptive_euler(t0,tf,x0,tol,xp)\n",
    "plt.plot(ts,adexs,'o',ts,x(ts))"
   ]
  },
  {
   "cell_type": "code",
   "execution_count": null,
   "metadata": {
    "collapsed": true
   },
   "outputs": [],
   "source": []
  }
 ],
 "metadata": {
  "kernelspec": {
   "display_name": "Python 2",
   "language": "python",
   "name": "python2"
  },
  "language_info": {
   "codemirror_mode": {
    "name": "ipython",
    "version": 2
   },
   "file_extension": ".py",
   "mimetype": "text/x-python",
   "name": "python",
   "nbconvert_exporter": "python",
   "pygments_lexer": "ipython2",
   "version": "2.7.9"
  }
 },
 "nbformat": 4,
 "nbformat_minor": 0
}
