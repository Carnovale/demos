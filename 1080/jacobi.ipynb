{
 "cells": [
  {
   "cell_type": "code",
   "execution_count": 1,
   "metadata": {
    "collapsed": false
   },
   "outputs": [],
   "source": [
    "%matplotlib inline\n",
    "import pylab\n",
    "import matplotlib.pyplot as plt\n",
    "import numpy as np"
   ]
  },
  {
   "cell_type": "code",
   "execution_count": 2,
   "metadata": {
    "collapsed": true
   },
   "outputs": [],
   "source": [
    "N = 100\n",
    "x0 = 0.\n",
    "xf = 1.\n",
    "g0 = 0.\n",
    "gf = 0.\n",
    "h = (xf-x0)/float(N+1)\n",
    "b = np.zeros(N)\n",
    "u = np.zeros(N)\n",
    "A = np.zeros((N,N))\n"
   ]
  },
  {
   "cell_type": "code",
   "execution_count": null,
   "metadata": {
    "collapsed": true
   },
   "outputs": [],
   "source": [
    "for i in range(N):\n",
    "    for j in range(N):\n",
    "        if i==j:\n",
    "            A[i,j] = 2.\n",
    "        if (i==(j+1)) or ((i+1)==j):\n",
    "            A[i,j] = -1.\n",
    "def f(x):\n",
    "    return np.sin(5*x)\n",
    "b[0] = g0 + h**2*f(x0+h)\n",
    "b[-1]= gf + h**2*f(x0+N*h)\n",
    "\n",
    "for i in range(1,N-1):\n",
    "    b[i] = h**2*f(x0 + h*(i+1))  "
   ]
  },
  {
   "cell_type": "markdown",
   "metadata": {},
   "source": [
    "### Gaussian Elimination"
   ]
  },
  {
   "cell_type": "code",
   "execution_count": null,
   "metadata": {
    "collapsed": true
   },
   "outputs": [],
   "source": [
    "a = np.concatenate((np.array([0.]),np.array([A[i+1,i] for i in range(A.shape[0]-1)])))\n",
    "d = np.array([A[i,i] for i in range(A.shape[0])])\n",
    "c = np.concatenate((np.array([A[i,i+1] for i in range(A.shape[0]-1)]),np.array([0.])))\n",
    "for i in range(1,A.shape[0]):\n",
    "    m = a[i]/d[i-1]\n",
    "    d[i] = d[i] - m*c[i-1]\n",
    "    b[i] = b[i] - m*b[i-1]\n",
    "u[-1] = b[-1]/d[-1]\n",
    "for i in range(N-1)[::-1]:\n",
    "    u[i] = (b[i] - c[i]*u[i+1])/d[i]\n",
    "u = np.append(np.append(g0,u),gf)"
   ]
  },
  {
   "cell_type": "code",
   "execution_count": null,
   "metadata": {
    "collapsed": false
   },
   "outputs": [],
   "source": [
    "plt.plot([x0+h*i for i in range(N+2)],u)"
   ]
  },
  {
   "cell_type": "markdown",
   "metadata": {},
   "source": [
    "### Jacobi"
   ]
  },
  {
   "cell_type": "markdown",
   "metadata": {},
   "source": [
    "#### Make initial guess and initialize"
   ]
  },
  {
   "cell_type": "code",
   "execution_count": null,
   "metadata": {
    "collapsed": false
   },
   "outputs": [],
   "source": [
    "x = [f(i*h) for i in range(N+2)]\n",
    "xold = [0 for i in range(N+2)]\n",
    "xnew = [0 for i in range(N+2)]"
   ]
  },
  {
   "cell_type": "markdown",
   "metadata": {},
   "source": [
    "#### Test"
   ]
  },
  {
   "cell_type": "code",
   "execution_count": null,
   "metadata": {
    "collapsed": false
   },
   "outputs": [],
   "source": [
    "x[0] = g0\n",
    "x[-1] = gf\n",
    "plt.plot([x0+h*i for i in range(N+2)],x)"
   ]
  },
  {
   "cell_type": "markdown",
   "metadata": {},
   "source": [
    "#### Iterate"
   ]
  },
  {
   "cell_type": "code",
   "execution_count": null,
   "metadata": {
    "collapsed": false
   },
   "outputs": [],
   "source": [
    "xold = x[:]\n",
    "for i in range(1,N+1):\n",
    "    ax = xold[i-1] + xold[i+1]\n",
    "    xnew[i] = 1/2.*(h**2*f(i*h) + ax)\n",
    "x = xnew[:]\n",
    "plt.plot([x0+h*i for i in range(N+2)],x,[x0+h*i for i in range(N+2)],u)"
   ]
  },
  {
   "cell_type": "markdown",
   "metadata": {},
   "source": [
    "#### Let's Fast-Foward"
   ]
  },
  {
   "cell_type": "code",
   "execution_count": null,
   "metadata": {
    "collapsed": false
   },
   "outputs": [],
   "source": [
    "for iterations in range(100):\n",
    "    xold = x[:]\n",
    "    for i in range(1,N+1):\n",
    "        ax = xold[i-1] + xold[i+1]\n",
    "        xnew[i] = 1/2.*(h**2*f(i*h) + ax)\n",
    "    x = xnew[:]\n",
    "plt.plot([x0+h*i for i in range(N+2)],x,[x0+h*i for i in range(N+2)],u)"
   ]
  },
  {
   "cell_type": "markdown",
   "metadata": {},
   "source": [
    "### Jacobi 2D"
   ]
  },
  {
   "cell_type": "code",
   "execution_count": null,
   "metadata": {
    "collapsed": false
   },
   "outputs": [],
   "source": [
    "def fun(x,y):\n",
    "    return 10*np.sin(x+y)\n",
    "B = np.zeros((100,100))\n",
    "for i in range(100):\n",
    "    for j in range(100):\n",
    "        B[i,j] = fun(i*h,j*h)\n",
    "plt.pcolor(B)"
   ]
  },
  {
   "cell_type": "markdown",
   "metadata": {},
   "source": [
    "#### Initial guess"
   ]
  },
  {
   "cell_type": "code",
   "execution_count": null,
   "metadata": {
    "collapsed": false
   },
   "outputs": [],
   "source": [
    "y = np.zeros((N+2,N+2))\n",
    "for i in range(1,N+1):\n",
    "    for j in range(1,N+1):\n",
    "        y[i,j] = fun(i*h,j*h)\n",
    "    \n",
    "yold = np.zeros((N+2,N+2))\n",
    "ynew = np.zeros((N+2,N+2))\n",
    "plt.pcolor(y[:,:])"
   ]
  },
  {
   "cell_type": "markdown",
   "metadata": {},
   "source": [
    "#### Iterate"
   ]
  },
  {
   "cell_type": "code",
   "execution_count": null,
   "metadata": {
    "collapsed": false
   },
   "outputs": [],
   "source": [
    "yold = y[:,:]\n",
    "for i in range(1,N+1):\n",
    "    for j in range(1,N+1):\n",
    "        ay = yold[i-1,j] + yold[i+1,j] + yold[i,j-1] + yold[i,j+1]\n",
    "        ynew[i,j] = 1/4.*(h**2*fun(i*h,j*h) + ay)\n",
    "y = ynew[:,:]\n",
    "plt.pcolor(y)"
   ]
  },
  {
   "cell_type": "markdown",
   "metadata": {},
   "source": [
    "#### Let's Fast-Forward"
   ]
  },
  {
   "cell_type": "code",
   "execution_count": null,
   "metadata": {
    "collapsed": false
   },
   "outputs": [],
   "source": [
    "for iterations in range(100):\n",
    "    yold = y[:,:]\n",
    "    for i in range(1,N+1):\n",
    "        for j in range(1,N+1):\n",
    "            ay = yold[i-1,j] + yold[i+1,j] + yold[i,j-1] + yold[i,j+1]\n",
    "            ynew[i,j] = 1/4.*(h**2*fun(i*h,j*h) + ay)\n",
    "    y = ynew[:,:]\n",
    "plt.pcolor(y)"
   ]
  },
  {
   "cell_type": "markdown",
   "metadata": {},
   "source": [
    "### Jacobi 3D"
   ]
  },
  {
   "cell_type": "code",
   "execution_count": 7,
   "metadata": {
    "collapsed": false
   },
   "outputs": [],
   "source": [
    "#pylab.rcParams['figure.figsize'] = (10, 30)\n",
    "N=100\n",
    "def function(x,y,z):\n",
    "    return np.sin(5*x+5*y+5*z)\n",
    "#C = np.zeros((N,N,N))\n",
    "#for i in range(N):\n",
    "#    for j in range(N):\n",
    "#        for k in range(N):\n",
    "#            C[i,j,k] = function(i*h,j*h,k*h)\n",
    "#fig, axarr = plt.subplots(N)\n",
    "#for i in range(N):\n",
    "#    axarr[i].pcolor(C[i,:,:])\n"
   ]
  },
  {
   "cell_type": "markdown",
   "metadata": {},
   "source": [
    "#### Initial guess"
   ]
  },
  {
   "cell_type": "code",
   "execution_count": 9,
   "metadata": {
    "collapsed": false
   },
   "outputs": [],
   "source": [
    "z = np.zeros((N+2,N+2,N+2))\n",
    "for i in range(1,N+1):\n",
    "    for j in range(1,N+1):\n",
    "        for k in range(1,N+1):\n",
    "            z[i,j,k] = function(i*h,j*h,k*h)\n",
    "    \n",
    "zold = np.zeros((N+2,N+2,N+2))\n",
    "znew = np.zeros((N+2,N+2,N+2))\n",
    "\n",
    "#fig, axarr = plt.subplots(N+2)\n",
    "#for i in range(N+2):\n",
    "#    axarr[i].pcolor(z[i,:,:])"
   ]
  },
  {
   "cell_type": "markdown",
   "metadata": {},
   "source": [
    "#### Iterate"
   ]
  },
  {
   "cell_type": "code",
   "execution_count": 12,
   "metadata": {
    "collapsed": false
   },
   "outputs": [],
   "source": [
    "zold = z[:,:,:]\n",
    "for i in range(1,N+1):\n",
    "    for j in range(1,N+1):\n",
    "        for k in range(1,N+1):\n",
    "            az=zold[i-1,j,k]+zold[i+1,j,k]+zold[i,j-1,k]+zold[i,j+1,k]+zold[i,j,k+1]+zold[i,j,k-1]\n",
    "            znew[i,j,k] = 1/6.*(h**2*function(i*h,j*h,k*h) + az)\n",
    "z = znew[:,:,:]\n",
    "#fig, axarr = plt.subplots(N+2)\n",
    "#for i in range(N+2):\n",
    "#    axarr[i].pcolor(z[i,:,:])"
   ]
  },
  {
   "cell_type": "markdown",
   "metadata": {},
   "source": [
    "#### Let's Fast-Forward"
   ]
  },
  {
   "cell_type": "code",
   "execution_count": null,
   "metadata": {
    "collapsed": false
   },
   "outputs": [],
   "source": [
    "for iterations in range(10):\n",
    "    zold = z[:,:,:]\n",
    "    for i in range(1,N+1):\n",
    "        for j in range(1,N+1):\n",
    "            for k in range(1,N+1):\n",
    "                az=zold[i-1,j,k]+zold[i+1,j,k]+zold[i,j-1,k]+zold[i,j+1,k]+zold[i,j,k+1]+zold[i,j,k-1]\n",
    "                znew[i,j,k] = 1/6.*(h**2*function(i*h,j*h,k*h) + az)\n",
    "    z = znew[:,:,:]\n",
    "fig, axarr = plt.subplots(N+2)\n",
    "for i in range(N+2):\n",
    "    axarr[i].pcolor(z[i,:,:])"
   ]
  },
  {
   "cell_type": "code",
   "execution_count": null,
   "metadata": {
    "collapsed": true
   },
   "outputs": [],
   "source": []
  }
 ],
 "metadata": {
  "kernelspec": {
   "display_name": "Python 2",
   "language": "python",
   "name": "python2"
  },
  "language_info": {
   "codemirror_mode": {
    "name": "ipython",
    "version": 2
   },
   "file_extension": ".py",
   "mimetype": "text/x-python",
   "name": "python",
   "nbconvert_exporter": "python",
   "pygments_lexer": "ipython2",
   "version": "2.7.9"
  }
 },
 "nbformat": 4,
 "nbformat_minor": 0
}
