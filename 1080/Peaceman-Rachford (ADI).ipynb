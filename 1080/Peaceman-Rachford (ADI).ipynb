{
 "cells": [
  {
   "cell_type": "code",
   "execution_count": null,
   "metadata": {
    "collapsed": false
   },
   "outputs": [],
   "source": [
    "%matplotlib inline\n",
    "import pylab\n",
    "import matplotlib.pyplot as plt\n",
    "import numpy as np"
   ]
  },
  {
   "cell_type": "code",
   "execution_count": null,
   "metadata": {
    "collapsed": true
   },
   "outputs": [],
   "source": [
    "N = 10\n",
    "x0 = 0.\n",
    "xf = 1.\n",
    "g0 = 0.\n",
    "gf = 0.\n",
    "h = (xf-x0)/float(N+1)\n",
    "b = np.zeros(N)\n",
    "u = np.zeros(N)\n",
    "A = np.zeros((N,N))"
   ]
  },
  {
   "cell_type": "markdown",
   "metadata": {},
   "source": [
    "### 2D MPP Jacobi"
   ]
  },
  {
   "cell_type": "code",
   "execution_count": null,
   "metadata": {
    "collapsed": false
   },
   "outputs": [],
   "source": [
    "def fun(x,y):\n",
    "    return 100*(x+y)\n",
    "B = np.zeros((100,100))\n",
    "for i in range(100):\n",
    "    for j in range(100):\n",
    "        B[i,j] = fun(i*h,j*h)\n",
    "plt.pcolor(B)"
   ]
  },
  {
   "cell_type": "code",
   "execution_count": null,
   "metadata": {
    "collapsed": false
   },
   "outputs": [],
   "source": [
    "y = np.zeros((N+2,N+2))\n",
    "for i in range(1,N+1):\n",
    "    for j in range(1,N+1):\n",
    "        y[i,j] = fun(i*h,j*h)\n",
    "    \n",
    "yold = np.zeros((N+2,N+2))\n",
    "ynew = np.zeros((N+2,N+2))\n",
    "plt.pcolor(y[:,:])"
   ]
  },
  {
   "cell_type": "code",
   "execution_count": null,
   "metadata": {
    "collapsed": false
   },
   "outputs": [],
   "source": [
    "for iterations in range(1000):\n",
    "    yold = y[:,:]\n",
    "    for i in range(1,N+1):\n",
    "        for j in range(1,N+1):\n",
    "            ay = yold[i-1,j] + yold[i+1,j] + yold[i,j-1] + yold[i,j+1]\n",
    "            ynew[i,j] = 1/4.*(h**2*fun(i*h,j*h) + ay)\n",
    "    y = ynew[:,:]\n",
    "plt.pcolor(y)"
   ]
  },
  {
   "cell_type": "markdown",
   "metadata": {},
   "source": [
    "## Alternative Direction Implicit"
   ]
  },
  {
   "cell_type": "code",
   "execution_count": null,
   "metadata": {
    "collapsed": true
   },
   "outputs": [],
   "source": [
    "N=10\n",
    "h = 1/float(N+1)\n",
    "x0 = 0.\n",
    "y0 = 0.\n",
    "def fun(x,y):\n",
    "    return 100*(x+y)\n",
    "A1 = np.zeros((N**2,N**2))\n",
    "A2 = np.zeros((N**2,N**2))\n",
    "b = np.zeros(N**2)\n",
    "u = np.zeros(N**2)"
   ]
  },
  {
   "cell_type": "code",
   "execution_count": null,
   "metadata": {
    "collapsed": false
   },
   "outputs": [],
   "source": [
    "for i in range(N**2):                        #  Build A1\n",
    "    for j in range(N**2):\n",
    "        if i==j:\n",
    "            A1[i,j] = 2.\n",
    "        if (i==(j+1)) or ((i+1)==j):\n",
    "            A1[i,j] = -1.\n",
    "for i in range(N**2):                        #  Build A2\n",
    "    for j in range(N**2):\n",
    "        if i==j:\n",
    "            A2[i,j] = 2.\n",
    "        if (i==(j+N)) or ((i+N)==j):\n",
    "            A2[i,j] = -1.\n",
    "for j in range(1,N-1):\n",
    "    for i in range(1,N-1):                    # Building B\n",
    "        index = i+j*N\n",
    "        b[index] = h**2*fun(x0 + h*(i+1),y0 + h*(j+1))  "
   ]
  },
  {
   "cell_type": "markdown",
   "metadata": {},
   "source": [
    "### Test"
   ]
  },
  {
   "cell_type": "code",
   "execution_count": null,
   "metadata": {
    "collapsed": false
   },
   "outputs": [],
   "source": [
    "b"
   ]
  },
  {
   "cell_type": "code",
   "execution_count": null,
   "metadata": {
    "collapsed": false
   },
   "outputs": [],
   "source": [
    "A1"
   ]
  },
  {
   "cell_type": "code",
   "execution_count": null,
   "metadata": {
    "collapsed": false
   },
   "outputs": [],
   "source": [
    "A2"
   ]
  },
  {
   "cell_type": "markdown",
   "metadata": {},
   "source": [
    "### Build the Bands"
   ]
  },
  {
   "cell_type": "code",
   "execution_count": null,
   "metadata": {
    "collapsed": false
   },
   "outputs": [],
   "source": [
    "a1 = np.concatenate((np.array([0.]),np.array([A1[i+1,i] for i in range(A1.shape[0]-1)])))\n",
    "d1 = np.array([A1[i,i] for i in range(A1.shape[0])])\n",
    "c1 = np.concatenate((np.array([A1[i,i+1] for i in range(A1.shape[0]-1)]),np.array([0.])))\n",
    "\n",
    "a2 = np.concatenate((np.array([0. for i in range(N)]),np.array([A2[i+N,i] for i in range(A2.shape[0]-N)])))\n",
    "d2 = np.array([A2[i,i] for i in range(A2.shape[0])])\n",
    "c2 = np.concatenate((np.array([A2[i,i+N] for i in range(A2.shape[0]-N)]),np.array([0. for i in range(N)])))"
   ]
  },
  {
   "cell_type": "code",
   "execution_count": null,
   "metadata": {
    "collapsed": false
   },
   "outputs": [],
   "source": [
    "a2"
   ]
  },
  {
   "cell_type": "markdown",
   "metadata": {},
   "source": [
    "### Tridiagonal Gaussian Elimination and Back Substition"
   ]
  },
  {
   "cell_type": "code",
   "execution_count": null,
   "metadata": {
    "collapsed": false
   },
   "outputs": [],
   "source": [
    "def GEBS(x,aorig,dorig,corig,borig,N):\n",
    "    a = np.copy(aorig)\n",
    "    d = np.copy(dorig)\n",
    "    c = np.copy(corig)\n",
    "    b = np.copy(borig)\n",
    "    u = np.zeros(N**2)\n",
    "    if x == 1:                           #  Band a distance 1 from diagonal\n",
    "        for i in range(1,N**2):\n",
    "            m = a[i]/d[i-1]\n",
    "            d[i] = d[i] - m*c[i-1]\n",
    "            b[i] = b[i] - m*b[i-1]\n",
    "        u[-1] = b[-1]/d[-1]\n",
    "        for i in range(N**2-1)[::-1]:\n",
    "            u[i] = (b[i] - c[i]*u[i+1])/d[i]\n",
    "    if x == 2:                          #  Band a distance N from diagonal\n",
    "        for i in range(N,N**2):\n",
    "            m = a[i]/d[i-N]\n",
    "            d[i] = d[i] - m*c[i-N]\n",
    "            b[i] = b[i] - m*b[i-N]\n",
    "        u[-1] = b[-1]/d[-1]\n",
    "        for i in range(N):                          #  Because of how band back sub works\n",
    "            u = np.append(u,np.array([0]))\n",
    "        for i in range(N**2-1)[::-1]:\n",
    "            u[i] = (b[i] - c[i]*u[i+N])/d[i]\n",
    "        u = [u[i] for i in range(N**2)]                #  Get rid of extra zeros\n",
    "    return u"
   ]
  },
  {
   "cell_type": "markdown",
   "metadata": {},
   "source": [
    "### Test 1"
   ]
  },
  {
   "cell_type": "code",
   "execution_count": null,
   "metadata": {
    "collapsed": false
   },
   "outputs": [],
   "source": [
    "b = np.array([float(np.random.randint(1,N**2+1)) for i in range(N**2)])\n",
    "ans = np.copy(b)\n",
    "y = GEBS(1,a1,d1,c1,b,N)\n",
    "np.dot(A1,y)-ans"
   ]
  },
  {
   "cell_type": "markdown",
   "metadata": {},
   "source": [
    "### Test 2"
   ]
  },
  {
   "cell_type": "code",
   "execution_count": null,
   "metadata": {
    "collapsed": false
   },
   "outputs": [],
   "source": [
    "b = np.array([float(np.random.randint(1,N**2+1)) for i in range(N**2)])\n",
    "ans = np.copy(b)\n",
    "y = GEBS(2,a2,d2,c2,b,N)\n",
    "np.dot(A2,y)-ans"
   ]
  },
  {
   "cell_type": "markdown",
   "metadata": {},
   "source": [
    "### Peaceman-Rachford\n",
    "\n",
    "$$(\\rho \\mathbb{1} + A_1) x^{n+1/2} = b + (\\rho \\mathbb{1} - A_2)x^n \\; \\; \\; \\; \\; \\; \\; \\; \\; $$        \n",
    "$$(\\rho \\mathbb{1} + A_2) x^{n+1} = b + (\\rho \\mathbb{1} - A_1)x^{n+1/2}\\; \\; \\; \\;  \\; \\; $$       "
   ]
  },
  {
   "cell_type": "markdown",
   "metadata": {},
   "source": [
    "#### Initialize"
   ]
  },
  {
   "cell_type": "code",
   "execution_count": null,
   "metadata": {
    "collapsed": false
   },
   "outputs": [],
   "source": [
    "N=10\n",
    "rho = 1.75                           # Pick a parameter\n",
    "x = np.zeros(N**2)\n",
    "b = np.zeros(N**2)\n",
    "for j in range(1,N-1):\n",
    "    for i in range(1,N-1):                    # Building B\n",
    "        index = i+j*N\n",
    "        b[index] = h**2*fun(x0 + h*(i+1),y0 + h*(j+1)) \n",
    "x = b[:]\n",
    "#  New Bands\n",
    "a1 = np.concatenate((np.array([0.]),np.array([-1. for i in range(N**2-1)])))\n",
    "d1 = np.array([2. for i in range(N**2)])\n",
    "c1 = np.concatenate((np.array([-1. for i in range(N**2-1)]),np.array([0.])))\n",
    "\n",
    "a2 = np.concatenate((np.array([0. for i in range(N)]),np.array([-1. for i in range(N**2-N)])))\n",
    "d2 = np.array([2. for i in range(N**2)])\n",
    "c2 = np.concatenate((np.array([-1. for i in range(N**2-N)]),np.array([0. for i in range(N)])))\n",
    "\n",
    "for i in range(N**2):\n",
    "    d1[i] = d1[i] + rho            # Specifically for PR\n",
    "    d2[i] = d2[i] + rho"
   ]
  },
  {
   "cell_type": "markdown",
   "metadata": {},
   "source": [
    "#### PR Iteration"
   ]
  },
  {
   "cell_type": "code",
   "execution_count": null,
   "metadata": {
    "collapsed": false
   },
   "outputs": [],
   "source": [
    "for i in range(10):\n",
    "    rhs = b + np.dot((rho*np.identity(N**2) - A2),x)\n",
    "    x = GEBS(1,a1,d1,c1,rhs,N)\n",
    "    rhs = b + np.dot((rho*np.identity(N**2) - A1),x)\n",
    "    x = GEBS(2,a2,d2,c2,rhs,N)"
   ]
  },
  {
   "cell_type": "markdown",
   "metadata": {},
   "source": [
    "### Plot"
   ]
  },
  {
   "cell_type": "code",
   "execution_count": null,
   "metadata": {
    "collapsed": false
   },
   "outputs": [],
   "source": [
    "y = np.zeros((N+1,N+1))\n",
    "for i in range(1,N):\n",
    "    for j in range(1,N):\n",
    "        y[i,j] = x[j + N*i]"
   ]
  },
  {
   "cell_type": "code",
   "execution_count": null,
   "metadata": {
    "collapsed": false
   },
   "outputs": [],
   "source": [
    "plt.pcolor(y[:,:])"
   ]
  },
  {
   "cell_type": "markdown",
   "metadata": {},
   "source": [
    "### Banded Multiplication\n"
   ]
  },
  {
   "cell_type": "code",
   "execution_count": null,
   "metadata": {
    "collapsed": false
   },
   "outputs": [],
   "source": [
    "N=5\n",
    "A = np.zeros((N**2,N**2))\n",
    "A1 = np.zeros((N**2,N**2))\n",
    "A2 = np.zeros((N**2,N**2))\n",
    "b = np.array([np.random.randint(10) for i in range(N**2)])\n",
    "\n",
    "for i in range(N**2):                        #  Build A1\n",
    "    for j in range(N**2):\n",
    "        if i==j:\n",
    "            A1[i,j] = 2.\n",
    "        if (i==(j+1)) or ((i+1)==j):\n",
    "            A1[i,j] = -1.\n",
    "for i in range(N**2):                        #  Build A2\n",
    "    for j in range(N**2):\n",
    "        if i==j:\n",
    "            A2[i,j] = 2.\n",
    "        if (i==(j+N)) or ((i+N)==j):\n",
    "            A2[i,j] = -1.\n",
    "            \n",
    "a1 = np.concatenate((np.array([0.]),np.array([-1. for i in range(N**2-1)])))\n",
    "d1 = np.array([2. for i in range(N**2)])\n",
    "c1 = np.concatenate((np.array([-1. for i in range(N**2-1)]),np.array([0.])))\n",
    "\n",
    "a2 = np.concatenate((np.array([0. for i in range(N)]),np.array([-1. for i in range(N**2-N)])))\n",
    "d2 = np.array([2. for i in range(N**2)])\n",
    "c2 = np.concatenate((np.array([-1. for i in range(N**2-N)]),np.array([0. for i in range(N)])))\n",
    "\n"
   ]
  },
  {
   "cell_type": "code",
   "execution_count": null,
   "metadata": {
    "collapsed": false
   },
   "outputs": [],
   "source": [
    "b"
   ]
  },
  {
   "cell_type": "code",
   "execution_count": null,
   "metadata": {
    "collapsed": true
   },
   "outputs": [],
   "source": [
    "def bandedmult(x,a,d,c,b,N):\n",
    "    if x == 1:\n",
    "        vec = np.append(np.append(0,b),0)\n",
    "        u = np.zeros(N**2 + 2)\n",
    "        for i in range(1,N**2+1):\n",
    "            u[i] = a[i-1]*vec[i-1] + d[i-1]*vec[i] + c[i-1]*vec[i+1]\n",
    "        u = [u[i] for i in range(1,N**2+1)]\n",
    "    if x == 2:\n",
    "        vec = np.append(np.append([0. for i in range(N)],b),[0. for i in range(N)])\n",
    "        u = np.zeros(N**2 + 2*N)\n",
    "        for i in range(N,N**2+N):\n",
    "            u[i] = a[i-N]*vec[i-N] + d[i-N]*vec[i] + c[i-N]*vec[i+N]\n",
    "        u = [u[i] for i in range(N,N**2+N)]\n",
    "    return u"
   ]
  },
  {
   "cell_type": "code",
   "execution_count": null,
   "metadata": {
    "collapsed": false
   },
   "outputs": [],
   "source": [
    "bandedmult(1,a1,d1,c1,b,N) - np.dot(A1,b)"
   ]
  },
  {
   "cell_type": "code",
   "execution_count": null,
   "metadata": {
    "collapsed": false
   },
   "outputs": [],
   "source": [
    "bandedmult(2,a2,d2,c2,b,N) - np.dot(A2,b)"
   ]
  }
 ],
 "metadata": {
  "kernelspec": {
   "display_name": "Python 2",
   "language": "python",
   "name": "python2"
  },
  "language_info": {
   "codemirror_mode": {
    "name": "ipython",
    "version": 2
   },
   "file_extension": ".py",
   "mimetype": "text/x-python",
   "name": "python",
   "nbconvert_exporter": "python",
   "pygments_lexer": "ipython2",
   "version": "2.7.9"
  }
 },
 "nbformat": 4,
 "nbformat_minor": 0
}
