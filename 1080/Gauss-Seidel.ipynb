{
 "cells": [
  {
   "cell_type": "code",
   "execution_count": 1,
   "metadata": {
    "collapsed": true
   },
   "outputs": [],
   "source": [
    "%matplotlib inline\n",
    "import pylab\n",
    "import matplotlib.pyplot as plt\n",
    "import numpy as np"
   ]
  },
  {
   "cell_type": "code",
   "execution_count": 2,
   "metadata": {
    "collapsed": true
   },
   "outputs": [],
   "source": [
    "N = 100\n",
    "x0 = 0.\n",
    "xf = 1.\n",
    "g0 = 0.\n",
    "gf = 0.\n",
    "h = (xf-x0)/float(N+1)\n",
    "b = np.zeros(N)\n",
    "u = np.zeros(N)\n",
    "A = np.zeros((N,N))"
   ]
  },
  {
   "cell_type": "markdown",
   "metadata": {},
   "source": [
    "### Gaussian Elimination"
   ]
  },
  {
   "cell_type": "code",
   "execution_count": 3,
   "metadata": {
    "collapsed": true
   },
   "outputs": [],
   "source": [
    "for i in range(N):                        #  Build A\n",
    "    for j in range(N):\n",
    "        if i==j:\n",
    "            A[i,j] = 2.\n",
    "        if (i==(j+1)) or ((i+1)==j):\n",
    "            A[i,j] = -1.\n",
    "def f(x):                                  #  Forcing term\n",
    "    return np.sin(5*x)\n",
    "b[0] = g0 + h**2*f(x0+h)\n",
    "b[-1]= gf + h**2*f(x0+N*h)\n",
    "\n",
    "for i in range(1,N-1):                    # Building B\n",
    "    b[i] = h**2*f(x0 + h*(i+1))  \n",
    "    \n",
    "a = np.concatenate((np.array([0.]),np.array([A[i+1,i] for i in range(A.shape[0]-1)])))\n",
    "d = np.array([A[i,i] for i in range(A.shape[0])])\n",
    "c = np.concatenate((np.array([A[i,i+1] for i in range(A.shape[0]-1)]),np.array([0.])))\n",
    "for i in range(1,A.shape[0]):\n",
    "    m = a[i]/d[i-1]\n",
    "    d[i] = d[i] - m*c[i-1]\n",
    "    b[i] = b[i] - m*b[i-1]\n",
    "u[-1] = b[-1]/d[-1]\n",
    "for i in range(N-1)[::-1]:\n",
    "    u[i] = (b[i] - c[i]*u[i+1])/d[i]\n",
    "u = np.append(np.append(g0,u),gf)"
   ]
  },
  {
   "cell_type": "code",
   "execution_count": 4,
   "metadata": {
    "collapsed": false
   },
   "outputs": [
    {
     "data": {
      "text/plain": [
       "[<matplotlib.lines.Line2D at 0x10adf6910>]"
      ]
     },
     "execution_count": 4,
     "metadata": {},
     "output_type": "execute_result"
    },
    {
     "data": {
      "image/png": "[encoded data removed]",
      "text/plain": [
       "<matplotlib.figure.Figure at 0x10ae03650>"
      ]
     },
     "metadata": {},
     "output_type": "display_data"
    }
   ],
   "source": [
    "plt.plot([x0+h*i for i in range(N+2)],u)"
   ]
  },
  {
   "cell_type": "markdown",
   "metadata": {},
   "source": [
    "### Iterative Methods"
   ]
  },
  {
   "cell_type": "markdown",
   "metadata": {},
   "source": [
    "#### Initial Guess"
   ]
  },
  {
   "cell_type": "code",
   "execution_count": 11,
   "metadata": {
    "collapsed": false
   },
   "outputs": [],
   "source": [
    "x = [f(i*h) for i in range(N+2)]    # Initial Guess  Jacobi\n",
    "xold = [0 for i in range(N+2)]\n",
    "xnew = [0 for i in range(N+2)]\n",
    "\n",
    "y = [f(i*h) for i in range(N+2)]    # Initial Guess  Gauss-Seidel\n",
    "\n",
    "t = [x0+h*i for i in range(N+2)]    # mesh steps\n",
    "x[0], x[-1], y[0], y[-1] = 0, 0, 0, 0"
   ]
  },
  {
   "cell_type": "markdown",
   "metadata": {},
   "source": [
    "### Jacobi vs Gauss - Seidel"
   ]
  },
  {
   "cell_type": "code",
   "execution_count": 26,
   "metadata": {
    "collapsed": false
   },
   "outputs": [
    {
     "data": {
      "text/plain": [
       "[<matplotlib.lines.Line2D at 0x10c5667d0>,\n",
       " <matplotlib.lines.Line2D at 0x10c566a50>,\n",
       " <matplotlib.lines.Line2D at 0x10c574150>]"
      ]
     },
     "execution_count": 26,
     "metadata": {},
     "output_type": "execute_result"
    },
    {
     "data": {
      "image/png": "[encoded data removed]",
      "text/plain": [
       "<matplotlib.figure.Figure at 0x10c39bb50>"
      ]
     },
     "metadata": {},
     "output_type": "display_data"
    }
   ],
   "source": [
    "for iterations in range(1000):\n",
    "    xold = x[:]\n",
    "    for i in range(1,N+1):\n",
    "        ax = xold[i-1] + xold[i+1]\n",
    "        xnew[i] = 1/2.*(h**2*f(i*h) + ax)\n",
    "    x = xnew[:]\n",
    "    \n",
    "    for i in range(1,N+1):\n",
    "        ax = y[i-1] + y[i+1]\n",
    "        y[i] = 1/2.*(h**2*f(i*h) + ax)\n",
    "        \n",
    "plt.plot(t,x,t,y,t,u)"
   ]
  },
  {
   "cell_type": "markdown",
   "metadata": {},
   "source": [
    "### Gauss Seidel 3D"
   ]
  },
  {
   "cell_type": "code",
   "execution_count": 33,
   "metadata": {
    "collapsed": false
   },
   "outputs": [],
   "source": [
    "import timeit\n",
    "\n",
    "N = 40\n",
    "\n",
    "def function(x,y,z):\n",
    "    return np.sin(5*x+5*y+5*z)\n",
    "z = np.zeros((N+2,N+2,N+2))\n",
    "for i in range(1,N+1):\n",
    "    for j in range(1,N+1):\n",
    "        for k in range(1,N+1):\n",
    "            z[i,j,k] = function(i*h,j*h,k*h)"
   ]
  },
  {
   "cell_type": "code",
   "execution_count": 39,
   "metadata": {
    "collapsed": false
   },
   "outputs": [
    {
     "name": "stdout",
     "output_type": "stream",
     "text": [
      "0.515502929688\n"
     ]
    }
   ],
   "source": [
    "start = timeit.default_timer()\n",
    "for iterations in range(1):\n",
    "    for i in range(1,N+1):\n",
    "        for j in range(1,N+1):\n",
    "            for k in range(1,N+1):\n",
    "                az=z[i-1,j,k]+z[i+1,j,k]+z[i,j-1,k]+z[i,j+1,k]+z[i,j,k+1]+z[i,j,k-1]\n",
    "                z[i,j,k] = 1/6.*(h**2*function(i*h,j*h,k*h) + az)\n",
    "stop = timeit.default_timer()\n",
    "print stop - start"
   ]
  }
 ],
 "metadata": {
  "kernelspec": {
   "display_name": "Python 2",
   "language": "python",
   "name": "python2"
  },
  "language_info": {
   "codemirror_mode": {
    "name": "ipython",
    "version": 2
   },
   "file_extension": ".py",
   "mimetype": "text/x-python",
   "name": "python",
   "nbconvert_exporter": "python",
   "pygments_lexer": "ipython2",
   "version": "2.7.9"
  }
 },
 "nbformat": 4,
 "nbformat_minor": 0
}
