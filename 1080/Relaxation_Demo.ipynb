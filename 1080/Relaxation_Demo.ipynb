{
 "cells": [
  {
   "cell_type": "code",
   "execution_count": null,
   "metadata": {
    "collapsed": true
   },
   "outputs": [],
   "source": [
    "%matplotlib inline\n",
    "import pylab\n",
    "import matplotlib.pyplot as plt\n",
    "import numpy as np"
   ]
  },
  {
   "cell_type": "markdown",
   "metadata": {},
   "source": [
    "### Initialization of Parameters"
   ]
  },
  {
   "cell_type": "code",
   "execution_count": null,
   "metadata": {
    "collapsed": true
   },
   "outputs": [],
   "source": [
    "N = 100\n",
    "x0 = 0.\n",
    "xf = 1.\n",
    "g0 = 0.\n",
    "gf = 0.\n",
    "h = (xf-x0)/float(N+1)\n",
    "b = np.zeros(N)\n",
    "u = np.zeros(N)\n",
    "A = np.zeros((N,N))\n",
    "def f(x):                                  #  Forcing term\n",
    "    return np.sin(5*x)"
   ]
  },
  {
   "cell_type": "markdown",
   "metadata": {},
   "source": [
    "### Initialize solution vectors"
   ]
  },
  {
   "cell_type": "code",
   "execution_count": null,
   "metadata": {
    "collapsed": false
   },
   "outputs": [],
   "source": [
    "x = [f(i*h) for i in range(N+2)]    # Initial Guess  Jacobi\n",
    "xold = [0 for i in range(N+2)]\n",
    "xnew = [0 for i in range(N+2)]\n",
    "\n",
    "y = [f(i*h) for i in range(N+2)]    # Initial Guess  Gauss-Seidel\n",
    "\n",
    "z = [f(i*h) for i in range(N+2)]    # Initial Guess for GS with Relaxation\n",
    "ztemp = [0 for i in range(N+2)]\n",
    "\n",
    "t = [x0+h*i for i in range(N+2)]    # mesh steps\n",
    "x[0], x[-1], y[0], y[-1],z[0],z[-1] = 0, 0, 0, 0,0,0"
   ]
  },
  {
   "cell_type": "markdown",
   "metadata": {},
   "source": [
    "### Gaussian Elimination"
   ]
  },
  {
   "cell_type": "code",
   "execution_count": null,
   "metadata": {
    "collapsed": true
   },
   "outputs": [],
   "source": [
    "for i in range(N):                        #  Build A\n",
    "    for j in range(N):\n",
    "        if i==j:\n",
    "            A[i,j] = 2.\n",
    "        if (i==(j+1)) or ((i+1)==j):\n",
    "            A[i,j] = -1.\n",
    "b[0] = g0 + h**2*f(x0+h)\n",
    "b[-1]= gf + h**2*f(x0+N*h)\n",
    "\n",
    "for i in range(1,N-1):                    # Building B\n",
    "    b[i] = h**2*f(x0 + h*(i+1))  \n",
    "    \n",
    "a = np.concatenate((np.array([0.]),np.array([A[i+1,i] for i in range(A.shape[0]-1)])))\n",
    "d = np.array([A[i,i] for i in range(A.shape[0])])\n",
    "c = np.concatenate((np.array([A[i,i+1] for i in range(A.shape[0]-1)]),np.array([0.])))\n",
    "for i in range(1,A.shape[0]):\n",
    "    m = a[i]/d[i-1]\n",
    "    d[i] = d[i] - m*c[i-1]\n",
    "    b[i] = b[i] - m*b[i-1]\n",
    "u[-1] = b[-1]/d[-1]\n",
    "for i in range(N-1)[::-1]:\n",
    "    u[i] = (b[i] - c[i]*u[i+1])/d[i]\n",
    "u = np.append(np.append(g0,u),gf)"
   ]
  },
  {
   "cell_type": "markdown",
   "metadata": {},
   "source": [
    "### Comparison"
   ]
  },
  {
   "cell_type": "code",
   "execution_count": null,
   "metadata": {
    "collapsed": true
   },
   "outputs": [],
   "source": [
    "omega = 1.5"
   ]
  },
  {
   "cell_type": "code",
   "execution_count": null,
   "metadata": {
    "collapsed": false
   },
   "outputs": [],
   "source": [
    "for iterations in range(100):\n",
    "    xold = x[:]\n",
    "    for i in range(1,N+1):\n",
    "        ax = xold[i-1] + xold[i+1]\n",
    "        xnew[i] = 1/2.*(h**2*f(i*h) + ax)\n",
    "    x = xnew[:]\n",
    "    \n",
    "    for i in range(1,N+1):\n",
    "        ax = y[i-1] + y[i+1]\n",
    "        y[i] = 1/2.*(h**2*f(i*h) + ax)\n",
    "        \n",
    "    for i in range(1,N+1):\n",
    "        ax = z[i-1] + z[i+1]\n",
    "        ztemp[i] = 1/2.*(h**2*f(i*h) + ax)\n",
    "        z[i] = ztemp[i]*omega + z[i]*(1.-omega)\n",
    "        \n",
    "plt.plot(t,x,'r',t,y,'g',t,z,'y',t,u,'b')"
   ]
  },
  {
   "cell_type": "markdown",
   "metadata": {},
   "source": [
    "### Different Parameters"
   ]
  },
  {
   "cell_type": "code",
   "execution_count": null,
   "metadata": {
    "collapsed": true
   },
   "outputs": [],
   "source": [
    "z1 = [f(i*h) for i in range(N+2)]\n",
    "z2 = [f(i*h) for i in range(N+2)]\n",
    "z3 = [f(i*h) for i in range(N+2)]\n",
    "z4 = [f(i*h) for i in range(N+2)]\n",
    "z5 = [f(i*h) for i in range(N+2)]\n",
    "z1[0], z1[-1], z2[0], z2[-1],z3[0],z3[-1], z4[0], z4[-1], z5[0], z5[-1] = 0,0,0,0,0,0,0,0,0,0"
   ]
  },
  {
   "cell_type": "code",
   "execution_count": null,
   "metadata": {
    "collapsed": false
   },
   "outputs": [],
   "source": [
    "for iterations in range(100):\n",
    "    for i in range(1,N+1):\n",
    "        ax = z1[i-1] + z1[i+1]\n",
    "        ztemp[i] = 1/2.*(h**2*f(i*h) + ax)\n",
    "        z1[i] = ztemp[i]*.5 + z1[i]*.5\n",
    "\n",
    "    for i in range(1,N+1):\n",
    "        ax = z2[i-1] + z2[i+1]\n",
    "        ztemp[i] = 1/2.*(h**2*f(i*h) + ax)\n",
    "        z2[i] = ztemp[i]*.75 + z2[i]*.25    \n",
    "        \n",
    "    for i in range(1,N+1):\n",
    "        ax = z3[i-1] + z3[i+1]\n",
    "        ztemp[i] = 1/2.*(h**2*f(i*h) + ax)\n",
    "        z3[i] = ztemp[i]*1.25 + z3[i]*(-.25)\n",
    "        \n",
    "    for i in range(1,N+1):\n",
    "        ax = z4[i-1] + z4[i+1]\n",
    "        ztemp[i] = 1/2.*(h**2*f(i*h) + ax)\n",
    "        z4[i] = ztemp[i]*1.5 + z4[i]*(-.5)    \n",
    "        \n",
    "    for i in range(1,N+1):\n",
    "        ax = z5[i-1] + z5[i+1]\n",
    "        ztemp[i] = 1/2.*(h**2*f(i*h) + ax)\n",
    "        z5[i] = ztemp[i]*1.75 + z5[i]*(-.75)\n",
    "        \n",
    "plt.plot(t,z1,'r',t,z2,'y',t,z3,'g',t,z4,'b',t,z5,'m',t,u,'k')"
   ]
  }
 ],
 "metadata": {
  "kernelspec": {
   "display_name": "Python 2",
   "language": "python",
   "name": "python2"
  },
  "language_info": {
   "codemirror_mode": {
    "name": "ipython",
    "version": 2
   },
   "file_extension": ".py",
   "mimetype": "text/x-python",
   "name": "python",
   "nbconvert_exporter": "python",
   "pygments_lexer": "ipython2",
   "version": "2.7.9"
  }
 },
 "nbformat": 4,
 "nbformat_minor": 0
}
