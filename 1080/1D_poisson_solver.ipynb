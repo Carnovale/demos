{
 "cells": [
  {
   "cell_type": "code",
   "execution_count": null,
   "metadata": {
    "collapsed": false
   },
   "outputs": [],
   "source": [
    "%matplotlib inline\n",
    "import matplotlib.pyplot as plt\n",
    "import numpy as np"
   ]
  },
  {
   "cell_type": "code",
   "execution_count": null,
   "metadata": {
    "collapsed": false
   },
   "outputs": [],
   "source": [
    "N = 10\n",
    "x0 = 1.\n",
    "xf = 3.\n",
    "g0 = 1.\n",
    "gf = 1.\n",
    "h = (xf-x0)/float(N+1)\n",
    "b = np.zeros(N)\n",
    "u = np.zeros(N)\n",
    "A = np.zeros((N,N))"
   ]
  },
  {
   "cell_type": "markdown",
   "metadata": {},
   "source": [
    "### Build Finite Difference Matrix for Laplacian"
   ]
  },
  {
   "cell_type": "code",
   "execution_count": null,
   "metadata": {
    "collapsed": false,
    "scrolled": true
   },
   "outputs": [],
   "source": [
    "for i in range(N):\n",
    "    for j in range(N):\n",
    "        if i==j:\n",
    "            A[i,j] = 2.\n",
    "        if (i==(j+1)) or ((i+1)==j):\n",
    "            A[i,j] = -1.\n",
    "A"
   ]
  },
  {
   "cell_type": "markdown",
   "metadata": {},
   "source": [
    "### Building the \"b\" for the equation $Ax = b$"
   ]
  },
  {
   "cell_type": "code",
   "execution_count": null,
   "metadata": {
    "collapsed": false
   },
   "outputs": [],
   "source": [
    "def f(x):\n",
    "    return x\n",
    "b[0] = g0 + h**2*f(x0+h)\n",
    "b[-1]= gf + h**2*f(x0+N*h)\n",
    "\n",
    "for i in range(1,N-1):\n",
    "    b[i] = h**2*f(x0 + h*(i+1))\n",
    "b   "
   ]
  },
  {
   "cell_type": "markdown",
   "metadata": {},
   "source": [
    "### Bring in the Tri-Diag Gaussian Elimination Solver"
   ]
  },
  {
   "cell_type": "code",
   "execution_count": null,
   "metadata": {
    "collapsed": true
   },
   "outputs": [],
   "source": [
    "a = np.concatenate((np.array([0.]),np.array([A[i+1,i] for i in range(A.shape[0]-1)])))\n",
    "d = np.array([A[i,i] for i in range(A.shape[0])])\n",
    "c = np.concatenate((np.array([A[i,i+1] for i in range(A.shape[0]-1)]),np.array([0.])))"
   ]
  },
  {
   "cell_type": "code",
   "execution_count": null,
   "metadata": {
    "collapsed": false
   },
   "outputs": [],
   "source": [
    "for i in range(1,A.shape[0]):\n",
    "    m = a[i]/d[i-1]\n",
    "    d[i] = d[i] - m*c[i-1]\n",
    "    b[i] = b[i] - m*b[i-1]\n"
   ]
  },
  {
   "cell_type": "code",
   "execution_count": null,
   "metadata": {
    "collapsed": false
   },
   "outputs": [],
   "source": [
    "u[-1] = b[-1]/d[-1]\n",
    "for i in range(N-1)[::-1]:\n",
    "    u[i] = (b[i] - c[i]*u[i+1])/d[i]\n",
    "u = np.append(np.append(g0,u),gf)"
   ]
  },
  {
   "cell_type": "code",
   "execution_count": null,
   "metadata": {
    "collapsed": false
   },
   "outputs": [],
   "source": [
    "plt.plot([x0+h*i for i in range(N+2)],u)"
   ]
  }
 ],
 "metadata": {
  "kernelspec": {
   "display_name": "Python 2",
   "language": "python",
   "name": "python2"
  },
  "language_info": {
   "codemirror_mode": {
    "name": "ipython",
    "version": 2
   },
   "file_extension": ".py",
   "mimetype": "text/x-python",
   "name": "python",
   "nbconvert_exporter": "python",
   "pygments_lexer": "ipython2",
   "version": "2.7.9"
  }
 },
 "nbformat": 4,
 "nbformat_minor": 0
}
