{
 "cells": [
  {
   "cell_type": "markdown",
   "metadata": {},
   "source": [
    "#### Libraries"
   ]
  },
  {
   "cell_type": "code",
   "execution_count": 1,
   "metadata": {
    "collapsed": true
   },
   "outputs": [],
   "source": [
    "import numpy as np"
   ]
  },
  {
   "cell_type": "markdown",
   "metadata": {},
   "source": [
    "#### Initialization"
   ]
  },
  {
   "cell_type": "code",
   "execution_count": 2,
   "metadata": {
    "collapsed": false
   },
   "outputs": [
    {
     "data": {
      "text/plain": [
       "array([[  5.,   1.,  -1.],\n",
       "       [ 10.,   3.,  -5.],\n",
       "       [  2.,   8.,   6.]])"
      ]
     },
     "execution_count": 2,
     "metadata": {},
     "output_type": "execute_result"
    }
   ],
   "source": [
    "A = np.array([[5., 1., -1.], [10., 3., -5.], [2., 8., 6.]])\n",
    "b = np.array([1.,2.,3.])\n",
    "A"
   ]
  },
  {
   "cell_type": "markdown",
   "metadata": {},
   "source": [
    "### Compute LU decomposition"
   ]
  },
  {
   "cell_type": "code",
   "execution_count": 3,
   "metadata": {
    "collapsed": false
   },
   "outputs": [],
   "source": [
    "def LU(A):\n",
    "    N = A.shape[0]\n",
    "    Upper = A.copy()\n",
    "    Lower = np.identity(N)\n",
    "    for i in range(N-1):\n",
    "        for k in range(i+1,N):\n",
    "            Lower[k,i] = Upper[k,i]/Upper[i,i]\n",
    "            for j in range(i,N):\n",
    "                Upper[k,j] = Upper[k,j] - Lower[k,i]*Upper[i,j]\n",
    "    return Lower, Upper"
   ]
  },
  {
   "cell_type": "code",
   "execution_count": 4,
   "metadata": {
    "collapsed": false
   },
   "outputs": [],
   "source": [
    "L,U = LU(A)"
   ]
  },
  {
   "cell_type": "markdown",
   "metadata": {},
   "source": [
    "#### Test"
   ]
  },
  {
   "cell_type": "code",
   "execution_count": 5,
   "metadata": {
    "collapsed": false
   },
   "outputs": [
    {
     "data": {
      "text/plain": [
       "array([[ 1. ,  0. ,  0. ],\n",
       "       [ 2. ,  1. ,  0. ],\n",
       "       [ 0.4,  7.6,  1. ]])"
      ]
     },
     "execution_count": 5,
     "metadata": {},
     "output_type": "execute_result"
    }
   ],
   "source": [
    "L"
   ]
  },
  {
   "cell_type": "code",
   "execution_count": 6,
   "metadata": {
    "collapsed": false
   },
   "outputs": [
    {
     "data": {
      "text/plain": [
       "array([[  5. ,   1. ,  -1. ],\n",
       "       [  0. ,   1. ,  -3. ],\n",
       "       [  0. ,   0. ,  29.2]])"
      ]
     },
     "execution_count": 6,
     "metadata": {},
     "output_type": "execute_result"
    }
   ],
   "source": [
    "U"
   ]
  },
  {
   "cell_type": "code",
   "execution_count": 7,
   "metadata": {
    "collapsed": false
   },
   "outputs": [
    {
     "data": {
      "text/plain": [
       "array([[ 0.,  0.,  0.],\n",
       "       [ 0.,  0.,  0.],\n",
       "       [ 0.,  0.,  0.]])"
      ]
     },
     "execution_count": 7,
     "metadata": {},
     "output_type": "execute_result"
    }
   ],
   "source": [
    "np.dot(L,U)-A"
   ]
  },
  {
   "cell_type": "markdown",
   "metadata": {},
   "source": [
    "### Back and Forward Substitution"
   ]
  },
  {
   "cell_type": "code",
   "execution_count": 8,
   "metadata": {
    "collapsed": true
   },
   "outputs": [],
   "source": [
    "def forwardsub(L,b):\n",
    "    N = L.shape[0]\n",
    "    y = np.zeros(N)\n",
    "    for i in range(N):\n",
    "        s = 0\n",
    "        for j in range(i):\n",
    "                s += L[i,j]*y[j]\n",
    "        y[i] = (1/L[i,i])*(b[i] - s)\n",
    "    return y"
   ]
  },
  {
   "cell_type": "code",
   "execution_count": 9,
   "metadata": {
    "collapsed": false
   },
   "outputs": [],
   "source": [
    "def backsub(U,y):\n",
    "    N = U.shape[0]\n",
    "    x = np.zeros(N)\n",
    "    for i in range(N)[::-1]:\n",
    "        s = 0\n",
    "        for j in range(i+1,N):\n",
    "                s += U[i,j]*x[j]\n",
    "        x[i] = (1/U[i,i])*(y[i] - s)\n",
    "    return x"
   ]
  },
  {
   "cell_type": "markdown",
   "metadata": {},
   "source": [
    "#### Test"
   ]
  },
  {
   "cell_type": "code",
   "execution_count": 10,
   "metadata": {
    "collapsed": false
   },
   "outputs": [
    {
     "data": {
      "text/plain": [
       "array([ 1. ,  0. ,  2.6])"
      ]
     },
     "execution_count": 10,
     "metadata": {},
     "output_type": "execute_result"
    }
   ],
   "source": [
    "y = forwardsub(L,b)\n",
    "y"
   ]
  },
  {
   "cell_type": "code",
   "execution_count": 11,
   "metadata": {
    "collapsed": false
   },
   "outputs": [
    {
     "data": {
      "text/plain": [
       "array([ 0.16438356,  0.26712329,  0.0890411 ])"
      ]
     },
     "execution_count": 11,
     "metadata": {},
     "output_type": "execute_result"
    }
   ],
   "source": [
    "x = backsub(U,y)\n",
    "x"
   ]
  },
  {
   "cell_type": "code",
   "execution_count": 12,
   "metadata": {
    "collapsed": false
   },
   "outputs": [
    {
     "data": {
      "text/plain": [
       "array([ 1.,  2.,  3.])"
      ]
     },
     "execution_count": 12,
     "metadata": {},
     "output_type": "execute_result"
    }
   ],
   "source": [
    "np.dot(A,x)"
   ]
  },
  {
   "cell_type": "markdown",
   "metadata": {},
   "source": [
    "### All together"
   ]
  },
  {
   "cell_type": "code",
   "execution_count": 13,
   "metadata": {
    "collapsed": true
   },
   "outputs": [],
   "source": [
    "def solveLU(L,U,b):\n",
    "    N = L.shape[0]\n",
    "    x = np.zeros(N)\n",
    "    y = np.zeros(N)\n",
    "    for i in range(N):\n",
    "        s = 0\n",
    "        for j in range(i):\n",
    "            s += L[i,j]*y[j]\n",
    "        y[i] = (1/L[i,i])*(b[i] - s)\n",
    "\n",
    "    for i in range(N)[::-1]:\n",
    "        s = 0\n",
    "        for j in range(i+1,N):\n",
    "            s += U[i,j]*x[j]\n",
    "        x[i] = (1/U[i,i])*(y[i] - s)\n",
    "    return x"
   ]
  },
  {
   "cell_type": "markdown",
   "metadata": {},
   "source": [
    "### Test"
   ]
  },
  {
   "cell_type": "code",
   "execution_count": 14,
   "metadata": {
    "collapsed": false
   },
   "outputs": [
    {
     "data": {
      "text/plain": [
       "array([ 8.56182935,  0.32697142,  0.59319618])"
      ]
     },
     "execution_count": 14,
     "metadata": {},
     "output_type": "execute_result"
    }
   ],
   "source": [
    "a = np.array([np.random.rand(1)[0]*10,np.random.rand(1)[0]*10,np.random.rand(1)[0]*10])\n",
    "b = np.array([np.random.rand(1)[0]*10,np.random.rand(1)[0]*10,np.random.rand(1)[0]*10])\n",
    "c = np.array([np.random.rand(1)[0]*10,np.random.rand(1)[0]*10,np.random.rand(1)[0]*10])\n",
    "d = np.array([np.random.rand(1)[0]*10,np.random.rand(1)[0]*10,np.random.rand(1)[0]*10])\n",
    "e = np.array([np.random.rand(1)[0]*10,np.random.rand(1)[0]*10,np.random.rand(1)[0]*10])\n",
    "a"
   ]
  },
  {
   "cell_type": "code",
   "execution_count": 15,
   "metadata": {
    "collapsed": false
   },
   "outputs": [
    {
     "data": {
      "text/plain": [
       "[array([  0.00000000e+00,   6.66133815e-16,   2.39808173e-14]),\n",
       " array([  1.77635684e-15,   1.55431223e-15,   9.76996262e-15]),\n",
       " array([  0.00000000e+00,   0.00000000e+00,  -1.24344979e-14]),\n",
       " array([  0.00000000e+00,   8.88178420e-16,  -1.77635684e-15]),\n",
       " array([  1.77635684e-15,   3.55271368e-15,   2.22044605e-15])]"
      ]
     },
     "execution_count": 15,
     "metadata": {},
     "output_type": "execute_result"
    }
   ],
   "source": [
    "[np.dot(A,solveLU(L,U,a)) - a,\n",
    "np.dot(A,solveLU(L,U,b)) - b,\n",
    "np.dot(A,solveLU(L,U,c)) - c,\n",
    "np.dot(A,solveLU(L,U,d)) - d,\n",
    "np.dot(A,solveLU(L,U,e)) - e]"
   ]
  },
  {
   "cell_type": "markdown",
   "metadata": {},
   "source": [
    "### Now with scaled partial pivoting"
   ]
  },
  {
   "cell_type": "code",
   "execution_count": 16,
   "metadata": {
    "collapsed": false
   },
   "outputs": [
    {
     "data": {
      "text/plain": [
       "array([[  5.,   1.,  -1.],\n",
       "       [ 10.,   2.,  -1.],\n",
       "       [  2.,   8.,   6.]])"
      ]
     },
     "execution_count": 16,
     "metadata": {},
     "output_type": "execute_result"
    }
   ],
   "source": [
    "A = np.array([[5., 1., -1.], [10., 2., -1.], [2., 8., 6.]])\n",
    "b = np.array([1.,2.,3.])\n",
    "A"
   ]
  },
  {
   "cell_type": "code",
   "execution_count": 17,
   "metadata": {
    "collapsed": true
   },
   "outputs": [],
   "source": [
    "def pivoting(i,A,N):\n",
    "    d = np.zeros(N)\n",
    "    for j in range(i,N):\n",
    "        d[j] = np.abs(A[j,i])\n",
    "        for k in range(i+1,N):\n",
    "            if d[j] < np.abs(A[j,k]):\n",
    "                d[j] = np.abs(A[j,k])\n",
    "    pivotrow = i\n",
    "    pivot = np.abs(A[i,i])/d[i]\n",
    "    for j in range(i+1,N):\n",
    "        if pivot < abs(A[j,i])/d[j]:\n",
    "            pivot = abs(A[j,i])/d[j]\n",
    "            pivotrow = j\n",
    "    return pivotrow   "
   ]
  },
  {
   "cell_type": "code",
   "execution_count": 18,
   "metadata": {
    "collapsed": true
   },
   "outputs": [],
   "source": [
    "def projector(p):\n",
    "    N = len(p)\n",
    "    P1 = np.identity(N)\n",
    "    P2 = np.identity(N)\n",
    "    for i in range(N):\n",
    "        P1[:][i] = P2[:][p[i]]\n",
    "    return P1"
   ]
  },
  {
   "cell_type": "code",
   "execution_count": 19,
   "metadata": {
    "collapsed": false
   },
   "outputs": [],
   "source": [
    "def PLU(A):\n",
    "    N = A.shape[0]                # Preliminary Definitions\n",
    "    Upper = A.copy()\n",
    "    Lower = np.zeros(A.shape)\n",
    "    p = range(N)\n",
    "    \n",
    "    for i in range(N-1):          # Perform the pivoting\n",
    "        l = pivoting(i,Upper,N)\n",
    "        if l != i:\n",
    "            tempVecUP = np.zeros(N)\n",
    "            tempVecDOWN = np.zeros(N)\n",
    "            tempVal = p[i]\n",
    "            p[i] = l\n",
    "            p[l] = tempVal\n",
    "            for n in range(N):\n",
    "                tempVecUP[n] = Upper[i,n]\n",
    "                tempVecDOWN[n] = Lower[i,n]\n",
    "                Upper[i,n] = Upper[l,n]\n",
    "                Lower[i,n] = Lower[l,n]                \n",
    "                Upper[l,n] = tempVecUP[n]\n",
    "                Lower[l,n] = tempVecDOWN[n]                \n",
    "        \n",
    "        for k in range(i+1,N):        # Gaussian Elim\n",
    "            Lower[k,i] = Upper[k,i]/Upper[i,i]\n",
    "            for j in range(i,N):\n",
    "                Upper[k,j] = Upper[k,j] - Lower[k,i]*Upper[i,j]\n",
    "    Lower += np.identity(N)\n",
    "    P = projector(p)\n",
    "    return p, P, Lower, Upper "
   ]
  },
  {
   "cell_type": "code",
   "execution_count": 20,
   "metadata": {
    "collapsed": false
   },
   "outputs": [],
   "source": [
    "p,P,L,U = PLU(A)"
   ]
  },
  {
   "cell_type": "markdown",
   "metadata": {},
   "source": [
    "#### Test"
   ]
  },
  {
   "cell_type": "code",
   "execution_count": 21,
   "metadata": {
    "collapsed": false
   },
   "outputs": [
    {
     "data": {
      "text/plain": [
       "[0, 2, 1]"
      ]
     },
     "execution_count": 21,
     "metadata": {},
     "output_type": "execute_result"
    }
   ],
   "source": [
    "p"
   ]
  },
  {
   "cell_type": "code",
   "execution_count": 22,
   "metadata": {
    "collapsed": false
   },
   "outputs": [
    {
     "data": {
      "text/plain": [
       "array([[ 1.,  0.,  0.],\n",
       "       [ 0.,  0.,  1.],\n",
       "       [ 0.,  1.,  0.]])"
      ]
     },
     "execution_count": 22,
     "metadata": {},
     "output_type": "execute_result"
    }
   ],
   "source": [
    "P"
   ]
  },
  {
   "cell_type": "code",
   "execution_count": 23,
   "metadata": {
    "collapsed": false
   },
   "outputs": [
    {
     "data": {
      "text/plain": [
       "array([[ 1. ,  0. ,  0. ],\n",
       "       [ 0.4,  1. ,  0. ],\n",
       "       [ 2. ,  0. ,  1. ]])"
      ]
     },
     "execution_count": 23,
     "metadata": {},
     "output_type": "execute_result"
    }
   ],
   "source": [
    "L"
   ]
  },
  {
   "cell_type": "code",
   "execution_count": 24,
   "metadata": {
    "collapsed": false
   },
   "outputs": [
    {
     "data": {
      "text/plain": [
       "array([[ 5. ,  1. , -1. ],\n",
       "       [ 0. ,  7.6,  6.4],\n",
       "       [ 0. ,  0. ,  1. ]])"
      ]
     },
     "execution_count": 24,
     "metadata": {},
     "output_type": "execute_result"
    }
   ],
   "source": [
    "U"
   ]
  },
  {
   "cell_type": "code",
   "execution_count": 27,
   "metadata": {
    "collapsed": false
   },
   "outputs": [
    {
     "data": {
      "text/plain": [
       "array([[  5.,   1.,  -1.],\n",
       "       [  2.,   8.,   6.],\n",
       "       [ 10.,   2.,  -1.]])"
      ]
     },
     "execution_count": 27,
     "metadata": {},
     "output_type": "execute_result"
    }
   ],
   "source": [
    "np.dot(L,U)"
   ]
  },
  {
   "cell_type": "code",
   "execution_count": 28,
   "metadata": {
    "collapsed": false
   },
   "outputs": [
    {
     "data": {
      "text/plain": [
       "array([[  5.,   1.,  -1.],\n",
       "       [ 10.,   2.,  -1.],\n",
       "       [  2.,   8.,   6.]])"
      ]
     },
     "execution_count": 28,
     "metadata": {},
     "output_type": "execute_result"
    }
   ],
   "source": [
    "A"
   ]
  },
  {
   "cell_type": "markdown",
   "metadata": {},
   "source": [
    "#### All together"
   ]
  },
  {
   "cell_type": "code",
   "execution_count": 29,
   "metadata": {
    "collapsed": true
   },
   "outputs": [],
   "source": [
    "def solvePLU(P,L,U,b):\n",
    "    N = L.shape[0]\n",
    "    x = np.zeros(N)\n",
    "    y = np.zeros(N)\n",
    "    b = np.dot(P,b)\n",
    "    for i in range(N):\n",
    "        s = 0\n",
    "        for j in range(i):\n",
    "            s += L[i,j]*y[j]\n",
    "        y[i] = (1/L[i,i])*(b[i] - s)\n",
    "\n",
    "    for i in range(N)[::-1]:\n",
    "        s = 0\n",
    "        for j in range(i+1,N):\n",
    "            s += U[i,j]*x[j]\n",
    "        x[i] = (1/U[i,i])*(y[i] - s)\n",
    "    return x"
   ]
  },
  {
   "cell_type": "code",
   "execution_count": null,
   "metadata": {
    "collapsed": false
   },
   "outputs": [],
   "source": [
    "[np.dot(A,solvePLU(P,L,U,a)) - a,\n",
    "np.dot(A,solvePLU(P,L,U,b)) - b,\n",
    "np.dot(A,solvePLU(P,L,U,c)) - c,\n",
    "np.dot(A,solvePLU(P,L,U,d)) - d,\n",
    "np.dot(A,solvePLU(P,L,U,e)) - e]"
   ]
  }
 ],
 "metadata": {
  "kernelspec": {
   "display_name": "Python 2",
   "language": "python",
   "name": "python2"
  },
  "language_info": {
   "codemirror_mode": {
    "name": "ipython",
    "version": 2
   },
   "file_extension": ".py",
   "mimetype": "text/x-python",
   "name": "python",
   "nbconvert_exporter": "python",
   "pygments_lexer": "ipython2",
   "version": "2.7.9"
  }
 },
 "nbformat": 4,
 "nbformat_minor": 0
}
