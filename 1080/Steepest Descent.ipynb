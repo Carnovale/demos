{
 "cells": [
  {
   "cell_type": "code",
   "execution_count": 220,
   "metadata": {
    "collapsed": true
   },
   "outputs": [],
   "source": [
    "%matplotlib inline\n",
    "import matplotlib.pyplot as plt\n",
    "import numpy as np"
   ]
  },
  {
   "cell_type": "code",
   "execution_count": 221,
   "metadata": {
    "collapsed": false
   },
   "outputs": [
    {
     "name": "stdout",
     "output_type": "stream",
     "text": [
      "It took 72015.0 iterations\n",
      "The condition number of A is 21631.2923881\n"
     ]
    }
   ],
   "source": [
    "B = np.array([[np.float(np.random.randint(10)) for i in range(10)] for j in range(10)])\n",
    "A = np.dot(np.transpose(B),B)\n",
    "b = np.array([[np.float(np.random.randint(10))] for j in range(10)])\n",
    "x = np.array([[np.float(np.random.randint(10))] for j in range(10)])\n",
    "count = 0.\n",
    "while (np.linalg.norm(np.dot(A,x)-b) > .01) and (count < 100000.):\n",
    "    r = b - np.dot(A,x)\n",
    "    alpha = np.dot(np.transpose(r),r)[0,0]/np.dot(np.transpose(r),np.dot(A,r))[0,0]\n",
    "    x = x + alpha*r\n",
    "    count += 1\n",
    "print \"It took\", count, \"iterations\"\n",
    "print \"The condition number of A is\", np.linalg.cond(A)"
   ]
  },
  {
   "cell_type": "code",
   "execution_count": 198,
   "metadata": {
    "collapsed": false
   },
   "outputs": [],
   "source": [
    "counts = np.zeros(1)\n",
    "conds = np.zeros(1)\n",
    "for i in range(100):\n",
    "    B = np.array([[np.float(np.random.randint(10)) for i in range(10)] for j in range(10)])\n",
    "    A = np.dot(np.transpose(B),B)\n",
    "    b = np.array([[np.float(np.random.randint(10))] for j in range(10)])\n",
    "    x = np.array([[np.float(np.random.randint(10))] for j in range(10)])\n",
    "    cond = np.linalg.cond(A)\n",
    "    count = 0\n",
    "    while (np.linalg.norm(np.dot(A,x)-b) > .01) and (count < 100000.):\n",
    "        r = b - np.dot(A,x)\n",
    "        alpha = np.dot(np.transpose(r),r)[0,0]/np.dot(np.transpose(r),np.dot(A,r))[0,0]\n",
    "        x = x + alpha*r\n",
    "        count += 1\n",
    "    counts = np.append(counts,count)\n",
    "    conds  = np.append(conds,cond) \n",
    "counts = counts[1:]\n",
    "conds = conds[1:]"
   ]
  },
  {
   "cell_type": "code",
   "execution_count": 217,
   "metadata": {
    "collapsed": false
   },
   "outputs": [
    {
     "data": {
      "text/plain": [
       "(0, 20000)"
      ]
     },
     "execution_count": 217,
     "metadata": {},
     "output_type": "execute_result"
    },
    {
     "data": {
      "image/png": "[encoded data removed]",
      "text/plain": [
       "<matplotlib.figure.Figure at 0x111960310>"
      ]
     },
     "metadata": {},
     "output_type": "display_data"
    }
   ],
   "source": [
    "xs = np.linspace(0,50000,len(counts))\n",
    "ys = 2*xs\n",
    "plt.plot(conds,counts,\"*\",xs,ys)\n",
    "plt.ylim([0,80000])\n",
    "plt.xlim([0,20000])"
   ]
  }
 ],
 "metadata": {
  "kernelspec": {
   "display_name": "Python 2",
   "language": "python",
   "name": "python2"
  },
  "language_info": {
   "codemirror_mode": {
    "name": "ipython",
    "version": 2
   },
   "file_extension": ".py",
   "mimetype": "text/x-python",
   "name": "python",
   "nbconvert_exporter": "python",
   "pygments_lexer": "ipython2",
   "version": "2.7.9"
  }
 },
 "nbformat": 4,
 "nbformat_minor": 0
}
