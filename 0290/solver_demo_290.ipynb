{
 "cells": [
  {
   "cell_type": "code",
   "execution_count": null,
   "metadata": {
    "collapsed": false
   },
   "outputs": [],
   "source": [
    "%matplotlib inline\n",
    "import matplotlib.pyplot as plt\n",
    "import numpy as np"
   ]
  },
  {
   "cell_type": "markdown",
   "metadata": {},
   "source": [
    "** Initial Conditions **"
   ]
  },
  {
   "cell_type": "code",
   "execution_count": null,
   "metadata": {
    "collapsed": true
   },
   "outputs": [],
   "source": [
    "N = 50\n",
    "x0 = 1\n",
    "xf = 5\n",
    "def f(x):\n",
    "    return x+1-np.exp(x-1)\n",
    "def fp(x,y):\n",
    "    return y-x\n",
    "f0 = f(x0)"
   ]
  },
  {
   "cell_type": "markdown",
   "metadata": {},
   "source": [
    "**Euler**"
   ]
  },
  {
   "cell_type": "code",
   "execution_count": null,
   "metadata": {
    "collapsed": true
   },
   "outputs": [],
   "source": [
    "def euler(x0,xf,f0,N,fp):\n",
    "    xs = [x0]\n",
    "    ys = [f0]\n",
    "    delta = (xf - x0)/float(N)\n",
    "    for i in range(N):\n",
    "        f0 += delta*fp(x0,f0)\n",
    "        x0 += delta\n",
    "        xs = np.append(xs,x0)\n",
    "        ys = np.append(ys,f0)\n",
    "    return xs, ys"
   ]
  },
  {
   "cell_type": "code",
   "execution_count": null,
   "metadata": {
    "collapsed": true
   },
   "outputs": [],
   "source": [
    "xs, eys = euler(x0,xf,f0,N,fp)\n",
    "xs40, eys40 = euler(x0,xf,f0,40,fp)\n",
    "xs30, eys30 = euler(x0,xf,f0,30,fp)\n",
    "xs20, eys20 = euler(x0,xf,f0,20,fp)\n",
    "xs10, eys10 = euler(x0,xf,f0,10,fp)"
   ]
  },
  {
   "cell_type": "code",
   "execution_count": null,
   "metadata": {
    "collapsed": false
   },
   "outputs": [],
   "source": [
    "plt.plot(xs,eys,'o',xs,f(xs))"
   ]
  },
  {
   "cell_type": "code",
   "execution_count": null,
   "metadata": {
    "collapsed": false
   },
   "outputs": [],
   "source": [
    "plt.plot(xs,eys,'ro',xs40,eys40,'yo',xs30,eys30,'go',xs20,eys20,'bo',xs10,eys10,'mo',xs,f(xs))"
   ]
  },
  {
   "cell_type": "markdown",
   "metadata": {},
   "source": [
    "**Euler-System**"
   ]
  },
  {
   "cell_type": "code",
   "execution_count": null,
   "metadata": {
    "collapsed": true
   },
   "outputs": [],
   "source": [
    "N = 50\n",
    "t0 = 0\n",
    "tf = 3*np.pi\n",
    "y0 = -1\n",
    "v0 = -2\n",
    "def yp(t,y,v):\n",
    "    return v\n",
    "def vp(t,y,v):\n",
    "    return -y"
   ]
  },
  {
   "cell_type": "code",
   "execution_count": null,
   "metadata": {
    "collapsed": true
   },
   "outputs": [],
   "source": [
    "def euler_sys(t0,tf,y0,v0,yp,vp,N):\n",
    "    ts = [t0]\n",
    "    ys = [y0]\n",
    "    vs = [v0]\n",
    "    delta = (tf - t0)/float(N)\n",
    "    for i in range(N):\n",
    "        y0temp = y0\n",
    "        y0 += delta*yp(t0,y0,v0)\n",
    "        v0 += delta*vp(t0,y0temp,v0)\n",
    "        t0 += delta\n",
    "        ts = np.append(ts,t0)\n",
    "        ys = np.append(ys,y0)\n",
    "        vs = np.append(vs,v0)\n",
    "    return ts, ys, vs"
   ]
  },
  {
   "cell_type": "code",
   "execution_count": null,
   "metadata": {
    "collapsed": false
   },
   "outputs": [],
   "source": [
    "ts, ys, vs = euler_sys(t0,tf,y0,v0,yp,vp,N)\n",
    "fig, axarr = plt.subplots(2)\n",
    "axarr[0].plot(ys,vs)\n",
    "axarr[1].plot(ts,ys,ts,vs)"
   ]
  },
  {
   "cell_type": "markdown",
   "metadata": {},
   "source": [
    "**Runge-Kutta 2nd Order**"
   ]
  },
  {
   "cell_type": "code",
   "execution_count": null,
   "metadata": {
    "collapsed": true
   },
   "outputs": [],
   "source": [
    "def rk2(x0,xf,f0,N,fp):\n",
    "    xs = [x0]\n",
    "    ys = [f0]\n",
    "    delta = (xf - x0)/float(N)\n",
    "    for i in range(N):\n",
    "        s1 = fp(x0,f0)\n",
    "        x0 += delta\n",
    "        s2 = fp(x0,f0 + delta*s1)\n",
    "        f0 += delta*(s1 + s2)/2\n",
    "        xs = np.append(xs,x0)\n",
    "        ys = np.append(ys,f0)\n",
    "    return xs, ys"
   ]
  },
  {
   "cell_type": "code",
   "execution_count": null,
   "metadata": {
    "collapsed": true
   },
   "outputs": [],
   "source": [
    "xs, rk2ys = rk2(x0,xf,f0,N,fp)"
   ]
  },
  {
   "cell_type": "code",
   "execution_count": null,
   "metadata": {
    "collapsed": false
   },
   "outputs": [],
   "source": [
    "plt.plot(xs,rk2ys,'b*',xs,f(xs))"
   ]
  },
  {
   "cell_type": "markdown",
   "metadata": {},
   "source": [
    "**Runge-Kutta 4th Order**"
   ]
  },
  {
   "cell_type": "code",
   "execution_count": null,
   "metadata": {
    "collapsed": true
   },
   "outputs": [],
   "source": [
    "def rk4(x0,xf,f0,N,fp):\n",
    "    xs = [x0]\n",
    "    ys = [f0]\n",
    "    delta = (xf - x0)/float(N)\n",
    "    hd = delta/2\n",
    "    for i in range(N):\n",
    "        s1 = fp(x0,f0)\n",
    "        s2 = fp(x0 + hd,f0 + hd*s1)\n",
    "        s3 = fp(x0 + hd,f0 + hd*s2)\n",
    "        x0 += delta\n",
    "        s4 = fp(x0,f0 + delta*s3)        \n",
    "        f0 += delta*(s1 + 2*s2 + 2*s3 + s4)/6\n",
    "        xs = np.append(xs,x0)\n",
    "        ys = np.append(ys,f0)\n",
    "    return xs, ys"
   ]
  },
  {
   "cell_type": "code",
   "execution_count": null,
   "metadata": {
    "collapsed": true
   },
   "outputs": [],
   "source": [
    "xs, rk4ys = rk4(x0,xf,f0,N,fp)"
   ]
  },
  {
   "cell_type": "code",
   "execution_count": null,
   "metadata": {
    "collapsed": false
   },
   "outputs": [],
   "source": [
    "plt.plot(xs,rk4ys,'r*',xs,f(xs))"
   ]
  },
  {
   "cell_type": "markdown",
   "metadata": {},
   "source": [
    "** All Together **"
   ]
  },
  {
   "cell_type": "code",
   "execution_count": null,
   "metadata": {
    "collapsed": false
   },
   "outputs": [],
   "source": [
    "N=10\n",
    "xs, eys = euler(x0,xf,f0,N,fp)\n",
    "xs, rk2ys = rk2(x0,xf,f0,N,fp)\n",
    "xs, rk4ys = rk4(x0,xf,f0,N,fp)\n",
    "plt.plot(xs,eys,'o',xs,rk2ys,'b*',xs,rk4ys,'r*',xs,f(xs))"
   ]
  },
  {
   "cell_type": "code",
   "execution_count": null,
   "metadata": {
    "collapsed": false
   },
   "outputs": [],
   "source": [
    "def error_calc(num,N):\n",
    "    if num == 1:\n",
    "        return (np.absolute(f(xf) - euler(x0,xf,f0,N,fp)[1][-1]))\n",
    "    if num == 2:\n",
    "        return (np.absolute(f(xf) - rk2(x0,xf,f0,N,fp)[1][-1]))\n",
    "    if num == 3:\n",
    "        return (np.absolute(f(xf) - rk4(x0,xf,f0,N,fp)[1][-1]))    "
   ]
  },
  {
   "cell_type": "code",
   "execution_count": null,
   "metadata": {
    "collapsed": false
   },
   "outputs": [],
   "source": [
    "Ns=np.array([int(10**(i/5.)) for i in range(10,20)])\n",
    "eul_errors = [error_calc(1,i) for i in Ns]\n",
    "rk2_errors = [error_calc(2,i) for i in Ns]\n",
    "rk4_errors = [error_calc(3,i) for i in Ns]"
   ]
  },
  {
   "cell_type": "code",
   "execution_count": null,
   "metadata": {
    "collapsed": false
   },
   "outputs": [],
   "source": [
    "plt.loglog(Ns,eul_errors,'o',Ns,rk2_errors,'b*',Ns,rk4_errors,'r*')"
   ]
  },
  {
   "cell_type": "code",
   "execution_count": null,
   "metadata": {
    "collapsed": false
   },
   "outputs": [],
   "source": [
    "test4 = 10**2.5*np.array(map(lambda x: x**(-4),Ns))\n",
    "test2 = 10**2.5*np.array(map(lambda x: x**(-2),Ns))\n",
    "test1 = 10**2.5*np.array(map(lambda x: x**(-1),Ns))\n",
    "plt.loglog(Ns,eul_errors,'o',Ns,rk2_errors,'b*',Ns,rk4_errors,'r*',Ns,test1,'b',Ns,test2,'b',Ns,test4,'r')"
   ]
  }
 ],
 "metadata": {
  "kernelspec": {
   "display_name": "Python 2",
   "language": "python",
   "name": "python2"
  },
  "language_info": {
   "codemirror_mode": {
    "name": "ipython",
    "version": 2
   },
   "file_extension": ".py",
   "mimetype": "text/x-python",
   "name": "python",
   "nbconvert_exporter": "python",
   "pygments_lexer": "ipython2",
   "version": "2.7.9"
  }
 },
 "nbformat": 4,
 "nbformat_minor": 0
}
